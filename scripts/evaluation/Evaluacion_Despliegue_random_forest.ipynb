{
  "cells": [
    {
      "cell_type": "markdown",
      "metadata": {
        "id": "B-iiz84c5aSD"
      },
      "source": [
        "# **Evaluación y despliegue del modelo de mejor desempeño.**\n",
        "\n",
        "---\n",
        "\n",
        "A partir del entrenamiento y la identificación de Hiperparatmetros de apartados anteriores se realiza la evaluación del modelo con mejor desempeño, la creación del modelo en MLflow y le despliegue del modelo.\n",
        "\n"
      ]
    },
    {
      "cell_type": "markdown",
      "metadata": {
        "id": "PQVj76X66wgP"
      },
      "source": [
        "## **Librerias y Cargue de Datos**"
      ]
    },
    {
      "cell_type": "code",
      "execution_count": 69,
      "metadata": {
        "id": "raZP6sIb5Y_1"
      },
      "outputs": [],
      "source": [
        "import numpy as np\n",
        "import pandas as pd\n",
        "import matplotlib.pyplot as plt\n",
        "import seaborn as sns\n",
        "import tensorflow as tf\n",
        "from sklearn.metrics import confusion_matrix\n",
        "from sklearn.metrics import precision_score, recall_score, f1_score, accuracy_score\n",
        "from sklearn.metrics import classification_report\n",
        "import joblib\n",
        "from sklearn.ensemble import RandomForestClassifier\n",
        "import mlflow\n",
        "import os\n",
        "from IPython.display import display\n",
        "from pyngrok import ngrok\n",
        "import mlflow.sklearn\n",
        "import re\n",
        "import requests"
      ]
    },
    {
      "cell_type": "code",
      "execution_count": 2,
      "metadata": {
        "id": "zCyFxBl-51Uy"
      },
      "outputs": [],
      "source": [
        "def list_confusion_matrix(cm,classes):\n",
        "  df = pd.DataFrame(data = cm,\n",
        "                    index = pd.MultiIndex.from_product([['Valor real'], classes]),\n",
        "                    columns = pd.MultiIndex.from_product([['Valor predicho'], classes]))\n",
        "\n",
        "  return df"
      ]
    },
    {
      "cell_type": "code",
      "execution_count": 6,
      "metadata": {
        "colab": {
          "base_uri": "https://localhost:8080/"
        },
        "id": "3bIWNt0U58QN",
        "outputId": "9cd8c251-0b91-4046-9b4c-bb28272d2e94"
      },
      "outputs": [],
      "source": [
        "DATA_URL = 'https://github.com/cris21309/tdsp_template_grupo8/blob/preprocesamiento/scripts/preprocessing/train_test_array.npz?raw=true'\n",
        "\n",
        "path = tf.keras.utils.get_file('train_test_array.npz', DATA_URL)\n",
        "\n",
        "with np.load(path) as data:\n",
        "  X_train = data['X_train']\n",
        "  X_test  = data['X_test']\n",
        "  y_train = data['y_train']\n",
        "  y_test = data['y_test']"
      ]
    },
    {
      "cell_type": "markdown",
      "metadata": {
        "id": "DrCxrBmN6-eS"
      },
      "source": [
        "## **Evaluacion Random Forest con mejores Hiperparameros**\n",
        "----\n",
        "Teniendo en cuenta los resultados del entrenamiento se realiza el entrenamiento las métricas con el modelo de mejor desempeño, con los hiperparametros identificados y para la totalidad del conjunto de entrenamiento."
      ]
    },
    {
      "cell_type": "code",
      "execution_count": 7,
      "metadata": {
        "id": "WpAgjcK3835R"
      },
      "outputs": [],
      "source": [
        "RF_model= RandomForestClassifier(criterion='entropy', max_depth=50, min_samples_leaf=5,\n",
        "                       min_samples_split=10, n_estimators=50).fit(X_train,y_train)"
      ]
    },
    {
      "cell_type": "code",
      "execution_count": 8,
      "metadata": {
        "colab": {
          "base_uri": "https://localhost:8080/"
        },
        "id": "NssIO7uYMtCF",
        "outputId": "161f2493-4dc6-4407-db9d-066b4fca6f78"
      },
      "outputs": [
        {
          "data": {
            "text/plain": [
              "['RF_model.joblib']"
            ]
          },
          "execution_count": 8,
          "metadata": {},
          "output_type": "execute_result"
        }
      ],
      "source": [
        "joblib.dump(RF_model, \"RF_model.joblib\")"
      ]
    },
    {
      "cell_type": "code",
      "execution_count": 9,
      "metadata": {
        "id": "ZlHj9zrI_5qZ"
      },
      "outputs": [],
      "source": [
        "y_pred = RF_model.predict(X_test)"
      ]
    },
    {
      "cell_type": "code",
      "execution_count": 10,
      "metadata": {
        "colab": {
          "base_uri": "https://localhost:8080/"
        },
        "id": "m_QFTeEs_9rH",
        "outputId": "0cc26f2a-21c3-437c-b027-3cd97e1b3c08"
      },
      "outputs": [
        {
          "name": "stdout",
          "output_type": "stream",
          "text": [
            "              precision    recall  f1-score   support\n",
            "\n",
            " No_Diabetes     0.9701    0.9997    0.9846     17534\n",
            "    Diabetes     0.9948    0.6810    0.8085      1696\n",
            "\n",
            "    accuracy                         0.9716     19230\n",
            "   macro avg     0.9824    0.8403    0.8966     19230\n",
            "weighted avg     0.9722    0.9716    0.9691     19230\n",
            "\n"
          ]
        }
      ],
      "source": [
        "print(classification_report(y_test,y_pred, target_names=['No_Diabetes', 'Diabetes'], digits=4))"
      ]
    },
    {
      "cell_type": "code",
      "execution_count": 11,
      "metadata": {
        "colab": {
          "base_uri": "https://localhost:8080/"
        },
        "id": "_dkxo1fKBJ0j",
        "outputId": "b8ab039c-3fb7-4afd-f3e8-f7d8a9d1d01c"
      },
      "outputs": [
        {
          "name": "stdout",
          "output_type": "stream",
          "text": [
            "Orden de las etiquetas: ['No_Diabetes', 'Diabetes']\n",
            "Precisión por clase: \t[0.97005922 0.99483204]\n",
            "Recall por clase: \t[0.99965781 0.68101415]\n",
            "F1 por clase: \t[0.98463613 0.80854043]\n"
          ]
        }
      ],
      "source": [
        "#Estimación de los estadísticos de desempeño del modelo.\n",
        "names=['No_Diabetes', 'Diabetes']\n",
        "print(f'Orden de las etiquetas: {names}')\n",
        "print(f'Precisión por clase: \\t{precision_score(y_test, y_pred, average=None)}')\n",
        "print(f'Recall por clase: \\t{recall_score(y_test, y_pred, average=None)}')\n",
        "print(f'F1 por clase: \\t{f1_score(y_test, y_pred, average=None)}')"
      ]
    },
    {
      "cell_type": "code",
      "execution_count": 12,
      "metadata": {
        "colab": {
          "base_uri": "https://localhost:8080/",
          "height": 143
        },
        "id": "46WgF6FvBqgP",
        "outputId": "f61065d6-48ed-4f76-8df4-9775dedbb0b6"
      },
      "outputs": [
        {
          "data": {
            "text/html": [
              "<div>\n",
              "<style scoped>\n",
              "    .dataframe tbody tr th:only-of-type {\n",
              "        vertical-align: middle;\n",
              "    }\n",
              "\n",
              "    .dataframe tbody tr th {\n",
              "        vertical-align: top;\n",
              "    }\n",
              "\n",
              "    .dataframe thead tr th {\n",
              "        text-align: left;\n",
              "    }\n",
              "</style>\n",
              "<table border=\"1\" class=\"dataframe\">\n",
              "  <thead>\n",
              "    <tr>\n",
              "      <th></th>\n",
              "      <th></th>\n",
              "      <th colspan=\"2\" halign=\"left\">Valor predicho</th>\n",
              "    </tr>\n",
              "    <tr>\n",
              "      <th></th>\n",
              "      <th></th>\n",
              "      <th>No_Diabetes</th>\n",
              "      <th>Diabetes</th>\n",
              "    </tr>\n",
              "  </thead>\n",
              "  <tbody>\n",
              "    <tr>\n",
              "      <th rowspan=\"2\" valign=\"top\">Valor real</th>\n",
              "      <th>No_Diabetes</th>\n",
              "      <td>17528</td>\n",
              "      <td>6</td>\n",
              "    </tr>\n",
              "    <tr>\n",
              "      <th>Diabetes</th>\n",
              "      <td>541</td>\n",
              "      <td>1155</td>\n",
              "    </tr>\n",
              "  </tbody>\n",
              "</table>\n",
              "</div>"
            ],
            "text/plain": [
              "                       Valor predicho         \n",
              "                          No_Diabetes Diabetes\n",
              "Valor real No_Diabetes          17528        6\n",
              "           Diabetes               541     1155"
            ]
          },
          "execution_count": 12,
          "metadata": {},
          "output_type": "execute_result"
        }
      ],
      "source": [
        "# Generación de la matriz de confusión.\n",
        "RF_mat = confusion_matrix(y_test, y_pred)\n",
        "list_confusion_matrix(RF_mat, ['No_Diabetes', 'Diabetes'])"
      ]
    },
    {
      "cell_type": "code",
      "execution_count": 13,
      "metadata": {
        "colab": {
          "base_uri": "https://localhost:8080/",
          "height": 410
        },
        "id": "FLvMJMkHAOON",
        "outputId": "2b4baa4a-9da1-4f3b-8922-fdb40a6a0db9"
      },
      "outputs": [
        {
          "data": {
            "image/png": "[encoded data removed]",
            "text/plain": [
              "<Figure size 400x400 with 1 Axes>"
            ]
          },
          "metadata": {},
          "output_type": "display_data"
        }
      ],
      "source": [
        "plt.figure(figsize=(4, 4))\n",
        "sns.heatmap(RF_mat, annot=True, fmt=\"d\", cmap=\"Blues\", cbar=False,\n",
        "            xticklabels=names, yticklabels=names)\n",
        "plt.xlabel('Predicted')\n",
        "plt.ylabel('Actual')\n",
        "plt.title('Confusion Matrix')\n",
        "plt.show()"
      ]
    },
    {
      "cell_type": "markdown",
      "metadata": {
        "id": "lmMIcTH6Mg8a"
      },
      "source": [
        "-----\n",
        "\n",
        "Teniendo en cuenta los resultados de los apartados anteriores donde se realizó el entrenamiento de los diferentes modelos y se identificaron los mejores hiper parámetros, se realiza la evaluación completa del modelo. Se evidencia que para un clasificador basado en Random Forest se obtienen una exactitud de hasta 0.97 y con un buen desempeño en la estimación para las diferentes clases, siendo esto lo esperado en el desarrollo del proyecto.\n",
        "\n",
        "---------"
      ]
    },
    {
      "cell_type": "markdown",
      "metadata": {},
      "source": [
        "## Creación del modelo en ML Flow"
      ]
    },
    {
      "cell_type": "code",
      "execution_count": 15,
      "metadata": {},
      "outputs": [
        {
          "name": "stderr",
          "output_type": "stream",
          "text": [
            "/home/kevo/.local/lib/python3.10/site-packages/pydantic/_internal/_config.py:334: UserWarning: Valid config keys have changed in V2:\n",
            "* 'schema_extra' has been renamed to 'json_schema_extra'\n",
            "  warnings.warn(message, UserWarning)\n",
            "[2024-05-30 17:27:17 -0500] [31855] [INFO] Starting gunicorn 22.0.0\n",
            "[2024-05-30 17:27:17 -0500] [31855] [INFO] Listening at: http://127.0.0.1:5000 (31855)\n",
            "[2024-05-30 17:27:17 -0500] [31855] [INFO] Using worker: sync\n",
            "[2024-05-30 17:27:17 -0500] [31856] [INFO] Booting worker with pid: 31856\n",
            "[2024-05-30 17:27:17 -0500] [31857] [INFO] Booting worker with pid: 31857\n",
            "[2024-05-30 17:27:17 -0500] [31858] [INFO] Booting worker with pid: 31858\n",
            "[2024-05-30 17:27:18 -0500] [31859] [INFO] Booting worker with pid: 31859\n"
          ]
        }
      ],
      "source": [
        "command = \"\"\"\n",
        "mlflow server \\\n",
        "        --backend-store-uri sqlite:///tracking.db \\\n",
        "        --default-artifact-root file:mlruns \\\n",
        "        -p 5000 &\n",
        "\"\"\"\n",
        "get_ipython().system_raw(command)"
      ]
    },
    {
      "cell_type": "code",
      "execution_count": 16,
      "metadata": {},
      "outputs": [],
      "source": [
        "token = \"2gFliDMxc3tfsLh0I0TlwThCN9D_5jpazRWnVfVzhLPrGymzZ\" # Agregue el token dentro de las comillas\n",
        "os.environ[\"NGROK_TOKEN\"] = token"
      ]
    },
    {
      "cell_type": "code",
      "execution_count": 17,
      "metadata": {},
      "outputs": [
        {
          "data": {
            "text/plain": [
              "<NgrokTunnel: \"https://291a-201-182-249-169.ngrok-free.app\" -> \"http://localhost:5000\">"
            ]
          },
          "execution_count": 17,
          "metadata": {},
          "output_type": "execute_result"
        }
      ],
      "source": [
        "ngrok.connect(5000, \"http\")"
      ]
    },
    {
      "cell_type": "code",
      "execution_count": 22,
      "metadata": {},
      "outputs": [],
      "source": [
        "mlflow.set_tracking_uri(\"http://localhost:5000\")"
      ]
    },
    {
      "cell_type": "code",
      "execution_count": 24,
      "metadata": {},
      "outputs": [],
      "source": [
        "exp_id = mlflow.create_experiment(name=\"diabetes_model\", artifact_location=\"mlruns/\")"
      ]
    },
    {
      "cell_type": "code",
      "execution_count": 26,
      "metadata": {},
      "outputs": [],
      "source": [
        "with mlflow.start_run(\n",
        "        run_name=\"Randon_Forest\",\n",
        "        experiment_id=exp_id\n",
        "        ):\n",
        "    model = RandomForestClassifier(criterion='entropy', max_depth=50, min_samples_leaf=5,\n",
        "                       min_samples_split=10, n_estimators=50)\n",
        "    model.fit(X_train,y_train)\n",
        "    y_pred = model.predict(X_test)\n",
        "    mlflow.log_metric(\"accuracy\", accuracy_score(y_test, y_pred))\n",
        "    mlflow.sklearn.log_model(model, \"model\")"
      ]
    },
    {
      "cell_type": "markdown",
      "metadata": {},
      "source": [
        "## Despliegue del modelo en MLflow"
      ]
    },
    {
      "cell_type": "code",
      "execution_count": 27,
      "metadata": {},
      "outputs": [],
      "source": [
        "os.environ[\"MLFLOW_TRACKING_URI\"] = \"http://localhost:5000\""
      ]
    },
    {
      "cell_type": "code",
      "execution_count": 28,
      "metadata": {},
      "outputs": [
        {
          "name": "stderr",
          "output_type": "stream",
          "text": [
            "/home/kevo/.local/lib/python3.10/site-packages/pydantic/_internal/_config.py:334: UserWarning: Valid config keys have changed in V2:\n",
            "* 'schema_extra' has been renamed to 'json_schema_extra'\n",
            "  warnings.warn(message, UserWarning)\n",
            "Downloading artifacts: 100%|██████████| 9/9 [00:00<00:00, 6121.09it/s]\n",
            "2024/05/30 17:34:44 INFO mlflow.models.flavor_backend_registry: Selected backend for flavor 'python_function'\n",
            "2024/05/30 17:34:44 INFO mlflow.pyfunc.backend: === Running command 'exec gunicorn --timeout=60 -b 127.0.0.1:8001 -w 1 ${GUNICORN_CMD_ARGS} -- mlflow.pyfunc.scoring_server.wsgi:app'\n",
            "[2024-05-30 17:34:44 -0500] [32317] [INFO] Starting gunicorn 22.0.0\n",
            "[2024-05-30 17:34:44 -0500] [32317] [INFO] Listening at: http://127.0.0.1:8001 (32317)\n",
            "[2024-05-30 17:34:44 -0500] [32317] [INFO] Using worker: sync\n",
            "[2024-05-30 17:34:44 -0500] [32318] [INFO] Booting worker with pid: 32318\n"
          ]
        }
      ],
      "source": [
        "command = \"\"\"\n",
        "mlflow models serve -m 'models:/diabetes_model/1' -p 8001 --env-manager 'local' &\n",
        "\"\"\"\n",
        "get_ipython().system_raw(command)"
      ]
    },
    {
      "cell_type": "code",
      "execution_count": 84,
      "metadata": {},
      "outputs": [
        {
          "name": "stdout",
          "output_type": "stream",
          "text": [
            "Características de entrada 0 : [0.2492492492492492, 0.28279645191409897, 0.18181818181818188, 0.5454545454545454, 0.0, 0.0, 1.0, 0.0, 0.0, 0.0, 0.0, 0.0, 0.0, 1.0, 0.0]\n",
            "Características de entrada 1 : [0.8123123123123123, 0.23179271708683477, 0.4545454545454545, 0.6363636363636364, 0.0, 0.0, 0.0, 1.0, 0.0, 0.0, 0.0, 0.0, 1.0, 0.0, 0.0]\n",
            "Características de entrada 2 : [0.024024024024024024, 0.10270774976657329, 0.4181818181818181, 0.36363636363636365, 0.0, 0.0, 0.0, 1.0, 0.0, 1.0, 0.0, 0.0, 0.0, 0.0, 0.0]\n",
            "Características de entrada 3 : [0.4244244244244244, 0.20203081232493, 0.4727272727272728, 0.045454545454545414, 0.0, 0.0, 1.0, 0.0, 0.0, 0.0, 0.0, 0.0, 0.0, 0.0, 1.0]\n",
            "Características de entrada 4 : [0.537037037037037, 0.24451447245564892, 0.4909090909090911, 0.3545454545454545, 0.0, 0.0, 0.0, 1.0, 0.0, 1.0, 0.0, 0.0, 0.0, 0.0, 0.0]\n",
            "Características de entrada 5 : [0.587087087087087, 0.22934173669467786, 0.0, 0.2090909090909091, 1.0, 0.0, 0.0, 1.0, 0.0, 0.0, 0.0, 0.0, 0.0, 1.0, 0.0]\n",
            "Características de entrada 6 : [0.9624624624624624, 0.20203081232493, 0.8545454545454544, 0.9999999999999999, 0.0, 0.0, 0.0, 1.0, 0.0, 0.0, 0.0, 0.0, 0.0, 1.0, 0.0]\n",
            "Características de entrada 7 : [0.1116116116116116, 0.20203081232493, 0.4181818181818181, 0.359090909090909, 0.0, 0.0, 1.0, 0.0, 0.0, 1.0, 0.0, 0.0, 0.0, 0.0, 0.0]\n",
            "Características de entrada 8 : [0.562062062062062, 0.15732959850606906, 0.5636363636363636, 0.3545454545454545, 0.0, 0.0, 0.0, 1.0, 0.0, 0.0, 1.0, 0.0, 0.0, 0.0, 0.0]\n",
            "Características de entrada 9 : [0.49949949949949946, 0.3503734827264239, 0.23636363636363633, 0.2727272727272727, 0.0, 0.0, 1.0, 0.0, 0.0, 0.0, 0.0, 0.0, 0.0, 1.0, 0.0]\n",
            "Características de entrada 10 : [0.5745745745745745, 0.20203081232493, 0.4545454545454545, 0.022727272727272707, 0.0, 0.0, 0.0, 1.0, 0.0, 0.0, 0.0, 0.0, 0.0, 1.0, 0.0]\n",
            "Características de entrada 11 : [0.34934934934934936, 0.1999299719887955, 0.5636363636363636, 0.09090909090909088, 0.0, 0.0, 0.0, 1.0, 0.0, 0.0, 0.0, 0.0, 0.0, 0.0, 1.0]\n",
            "Características de entrada 12 : [0.36186186186186187, 0.13865546218487398, 0.5454545454545455, 0.3545454545454545, 0.0, 0.0, 1.0, 0.0, 0.0, 0.0, 0.0, 0.0, 0.0, 1.0, 0.0]\n",
            "Características de entrada 13 : [0.07407407407407407, 0.06594304388422037, 0.4, 0.22727272727272718, 0.0, 0.0, 0.0, 1.0, 0.0, 1.0, 0.0, 0.0, 0.0, 0.0, 0.0]\n",
            "Características de entrada 14 : [0.5495495495495495, 0.20203081232493, 0.23636363636363633, 0.2727272727272727, 0.0, 0.0, 1.0, 0.0, 0.0, 0.0, 0.0, 0.0, 0.0, 0.0, 1.0]\n",
            "Características de entrada 15 : [0.8998998998998998, 0.20249766573295983, 0.4909090909090911, 0.045454545454545414, 0.0, 0.0, 1.0, 0.0, 0.0, 0.0, 0.0, 0.0, 0.0, 1.0, 0.0]\n",
            "Características de entrada 16 : [0.9999999999999999, 0.13655462184873948, 0.4545454545454545, 0.359090909090909, 0.0, 0.0, 1.0, 0.0, 0.0, 0.0, 0.0, 0.0, 1.0, 0.0, 0.0]\n",
            "Características de entrada 17 : [0.9999999999999999, 0.20203081232493, 0.2727272727272728, 0.2090909090909091, 0.0, 0.0, 0.0, 1.0, 0.0, 1.0, 0.0, 0.0, 0.0, 0.0, 0.0]\n",
            "Características de entrada 18 : [0.6496496496496497, 0.20203081232493, 0.4909090909090911, 0.34090909090909083, 1.0, 0.0, 1.0, 0.0, 0.0, 0.0, 0.0, 0.0, 0.0, 1.0, 0.0]\n",
            "Características de entrada 19 : [0.46196196196196193, 0.3138422035480859, 0.5636363636363636, 0.3545454545454545, 0.0, 0.0, 1.0, 0.0, 0.0, 1.0, 0.0, 0.0, 0.0, 0.0, 0.0]\n"
          ]
        }
      ],
      "source": [
        "data_request = X_test[120:140].tolist()\n",
        "for i in range(len(data_request)):\n",
        "    print(f\"Características de entrada {i} : {data_request[i]}\" )"
      ]
    },
    {
      "cell_type": "code",
      "execution_count": 85,
      "metadata": {},
      "outputs": [
        {
          "name": "stdout",
          "output_type": "stream",
          "text": [
            "predición 0: 0\n",
            "predición 1: 1\n",
            "predición 2: 0\n",
            "predición 3: 0\n",
            "predición 4: 0\n",
            "predición 5: 0\n",
            "predición 6: 1\n",
            "predición 7: 0\n",
            "predición 8: 0\n",
            "predición 9: 0\n",
            "predición 10: 0\n",
            "predición 11: 0\n",
            "predición 12: 0\n",
            "predición 13: 0\n",
            "predición 14: 0\n",
            "predición 15: 0\n",
            "predición 16: 0\n",
            "predición 17: 0\n",
            "predición 18: 0\n",
            "predición 19: 0\n"
          ]
        }
      ],
      "source": [
        "r = requests.post(\"http://localhost:8001/invocations\", json={\"inputs\": data_request})\n",
        "predictions = re.findall(r'\\d+', r.text)\n",
        "predictions = list(map(int, predictions))\n",
        "for i in range(len(predictions)):\n",
        "    print(f\"predición {i}: {predictions[i]}\")"
      ]
    }
  ],
  "metadata": {
    "colab": {
      "provenance": []
    },
    "kernelspec": {
      "display_name": "Python 3",
      "name": "python3"
    },
    "language_info": {
      "codemirror_mode": {
        "name": "ipython",
        "version": 3
      },
      "file_extension": ".py",
      "mimetype": "text/x-python",
      "name": "python",
      "nbconvert_exporter": "python",
      "pygments_lexer": "ipython3",
      "version": "3.12.3"
    }
  },
  "nbformat": 4,
  "nbformat_minor": 0
}
